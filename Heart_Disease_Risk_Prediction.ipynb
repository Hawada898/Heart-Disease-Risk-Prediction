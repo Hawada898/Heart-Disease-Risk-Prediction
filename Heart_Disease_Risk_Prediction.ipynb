{
  "nbformat": 4,
  "nbformat_minor": 0,
  "metadata": {
    "colab": {
      "name": "Heart Disease Risk Prediction.ipynb",
      "provenance": [],
      "collapsed_sections": [],
      "mount_file_id": "1hzgrrRdDJrdRo2l4cEe5UEcZz-c4PW--",
      "authorship_tag": "ABX9TyP/URqCFdVlsfOgBN3A8IPk",
      "include_colab_link": true
    },
    "kernelspec": {
      "name": "python3",
      "display_name": "Python 3"
    },
    "language_info": {
      "name": "python"
    }
  },
  "cells": [
    {
      "cell_type": "markdown",
      "metadata": {
        "id": "view-in-github",
        "colab_type": "text"
      },
      "source": [
        "<a href=\"https://colab.research.google.com/github/Hawada898/Heart-Disease-Risk-Prediction/blob/master/Heart_Disease_Risk_Prediction.ipynb\" target=\"_parent\"><img src=\"https://colab.research.google.com/assets/colab-badge.svg\" alt=\"Open In Colab\"/></a>"
      ]
    },
    {
      "cell_type": "code",
      "metadata": {
        "id": "wfrrL2vKvDFY"
      },
      "source": [
        "import numpy as np\n",
        "import pandas as pd\n",
        "import matplotlib.pyplot as plt\n",
        "import tensorflow as tf\n",
        "from sklearn.utils import shuffle\n",
        "from tensorflow import keras\n",
        "from tensorflow.keras import layers\n",
        "from tensorflow.keras.layers.experimental import preprocessing\n",
        "\n",
        "np.random.seed(10)"
      ],
      "execution_count": 1,
      "outputs": []
    },
    {
      "cell_type": "code",
      "metadata": {
        "colab": {
          "base_uri": "https://localhost:8080/",
          "height": 206
        },
        "id": "_09DheJyuQ9f",
        "outputId": "1d00b325-a576-44d3-9fc7-e98d7add27aa"
      },
      "source": [
        "#loading the data from the drive\n",
        "df = pd.read_csv(\"/content/drive/MyDrive/Data/framingham.csv\")\n",
        "df.head()"
      ],
      "execution_count": 2,
      "outputs": [
        {
          "output_type": "execute_result",
          "data": {
            "text/html": [
              "<div>\n",
              "<style scoped>\n",
              "    .dataframe tbody tr th:only-of-type {\n",
              "        vertical-align: middle;\n",
              "    }\n",
              "\n",
              "    .dataframe tbody tr th {\n",
              "        vertical-align: top;\n",
              "    }\n",
              "\n",
              "    .dataframe thead th {\n",
              "        text-align: right;\n",
              "    }\n",
              "</style>\n",
              "<table border=\"1\" class=\"dataframe\">\n",
              "  <thead>\n",
              "    <tr style=\"text-align: right;\">\n",
              "      <th></th>\n",
              "      <th>male</th>\n",
              "      <th>age</th>\n",
              "      <th>education</th>\n",
              "      <th>currentSmoker</th>\n",
              "      <th>cigsPerDay</th>\n",
              "      <th>BPMeds</th>\n",
              "      <th>prevalentStroke</th>\n",
              "      <th>prevalentHyp</th>\n",
              "      <th>diabetes</th>\n",
              "      <th>totChol</th>\n",
              "      <th>sysBP</th>\n",
              "      <th>diaBP</th>\n",
              "      <th>BMI</th>\n",
              "      <th>heartRate</th>\n",
              "      <th>glucose</th>\n",
              "      <th>TenYearCHD</th>\n",
              "    </tr>\n",
              "  </thead>\n",
              "  <tbody>\n",
              "    <tr>\n",
              "      <th>0</th>\n",
              "      <td>1</td>\n",
              "      <td>39</td>\n",
              "      <td>4.0</td>\n",
              "      <td>0</td>\n",
              "      <td>0.0</td>\n",
              "      <td>0.0</td>\n",
              "      <td>0</td>\n",
              "      <td>0</td>\n",
              "      <td>0</td>\n",
              "      <td>195.0</td>\n",
              "      <td>106.0</td>\n",
              "      <td>70.0</td>\n",
              "      <td>26.97</td>\n",
              "      <td>80.0</td>\n",
              "      <td>77.0</td>\n",
              "      <td>0</td>\n",
              "    </tr>\n",
              "    <tr>\n",
              "      <th>1</th>\n",
              "      <td>0</td>\n",
              "      <td>46</td>\n",
              "      <td>2.0</td>\n",
              "      <td>0</td>\n",
              "      <td>0.0</td>\n",
              "      <td>0.0</td>\n",
              "      <td>0</td>\n",
              "      <td>0</td>\n",
              "      <td>0</td>\n",
              "      <td>250.0</td>\n",
              "      <td>121.0</td>\n",
              "      <td>81.0</td>\n",
              "      <td>28.73</td>\n",
              "      <td>95.0</td>\n",
              "      <td>76.0</td>\n",
              "      <td>0</td>\n",
              "    </tr>\n",
              "    <tr>\n",
              "      <th>2</th>\n",
              "      <td>1</td>\n",
              "      <td>48</td>\n",
              "      <td>1.0</td>\n",
              "      <td>1</td>\n",
              "      <td>20.0</td>\n",
              "      <td>0.0</td>\n",
              "      <td>0</td>\n",
              "      <td>0</td>\n",
              "      <td>0</td>\n",
              "      <td>245.0</td>\n",
              "      <td>127.5</td>\n",
              "      <td>80.0</td>\n",
              "      <td>25.34</td>\n",
              "      <td>75.0</td>\n",
              "      <td>70.0</td>\n",
              "      <td>0</td>\n",
              "    </tr>\n",
              "    <tr>\n",
              "      <th>3</th>\n",
              "      <td>0</td>\n",
              "      <td>61</td>\n",
              "      <td>3.0</td>\n",
              "      <td>1</td>\n",
              "      <td>30.0</td>\n",
              "      <td>0.0</td>\n",
              "      <td>0</td>\n",
              "      <td>1</td>\n",
              "      <td>0</td>\n",
              "      <td>225.0</td>\n",
              "      <td>150.0</td>\n",
              "      <td>95.0</td>\n",
              "      <td>28.58</td>\n",
              "      <td>65.0</td>\n",
              "      <td>103.0</td>\n",
              "      <td>1</td>\n",
              "    </tr>\n",
              "    <tr>\n",
              "      <th>4</th>\n",
              "      <td>0</td>\n",
              "      <td>46</td>\n",
              "      <td>3.0</td>\n",
              "      <td>1</td>\n",
              "      <td>23.0</td>\n",
              "      <td>0.0</td>\n",
              "      <td>0</td>\n",
              "      <td>0</td>\n",
              "      <td>0</td>\n",
              "      <td>285.0</td>\n",
              "      <td>130.0</td>\n",
              "      <td>84.0</td>\n",
              "      <td>23.10</td>\n",
              "      <td>85.0</td>\n",
              "      <td>85.0</td>\n",
              "      <td>0</td>\n",
              "    </tr>\n",
              "  </tbody>\n",
              "</table>\n",
              "</div>"
            ],
            "text/plain": [
              "   male  age  education  currentSmoker  ...    BMI  heartRate  glucose  TenYearCHD\n",
              "0     1   39        4.0              0  ...  26.97       80.0     77.0           0\n",
              "1     0   46        2.0              0  ...  28.73       95.0     76.0           0\n",
              "2     1   48        1.0              1  ...  25.34       75.0     70.0           0\n",
              "3     0   61        3.0              1  ...  28.58       65.0    103.0           1\n",
              "4     0   46        3.0              1  ...  23.10       85.0     85.0           0\n",
              "\n",
              "[5 rows x 16 columns]"
            ]
          },
          "metadata": {
            "tags": []
          },
          "execution_count": 2
        }
      ]
    },
    {
      "cell_type": "code",
      "metadata": {
        "colab": {
          "base_uri": "https://localhost:8080/",
          "height": 320
        },
        "id": "1PFZGXRgvOwe",
        "outputId": "db69ad5f-4309-4c6a-d718-2b776e20fe9e"
      },
      "source": [
        "df.describe()"
      ],
      "execution_count": 3,
      "outputs": [
        {
          "output_type": "execute_result",
          "data": {
            "text/html": [
              "<div>\n",
              "<style scoped>\n",
              "    .dataframe tbody tr th:only-of-type {\n",
              "        vertical-align: middle;\n",
              "    }\n",
              "\n",
              "    .dataframe tbody tr th {\n",
              "        vertical-align: top;\n",
              "    }\n",
              "\n",
              "    .dataframe thead th {\n",
              "        text-align: right;\n",
              "    }\n",
              "</style>\n",
              "<table border=\"1\" class=\"dataframe\">\n",
              "  <thead>\n",
              "    <tr style=\"text-align: right;\">\n",
              "      <th></th>\n",
              "      <th>male</th>\n",
              "      <th>age</th>\n",
              "      <th>education</th>\n",
              "      <th>currentSmoker</th>\n",
              "      <th>cigsPerDay</th>\n",
              "      <th>BPMeds</th>\n",
              "      <th>prevalentStroke</th>\n",
              "      <th>prevalentHyp</th>\n",
              "      <th>diabetes</th>\n",
              "      <th>totChol</th>\n",
              "      <th>sysBP</th>\n",
              "      <th>diaBP</th>\n",
              "      <th>BMI</th>\n",
              "      <th>heartRate</th>\n",
              "      <th>glucose</th>\n",
              "      <th>TenYearCHD</th>\n",
              "    </tr>\n",
              "  </thead>\n",
              "  <tbody>\n",
              "    <tr>\n",
              "      <th>count</th>\n",
              "      <td>4238.000000</td>\n",
              "      <td>4238.000000</td>\n",
              "      <td>4133.000000</td>\n",
              "      <td>4238.000000</td>\n",
              "      <td>4209.000000</td>\n",
              "      <td>4185.000000</td>\n",
              "      <td>4238.000000</td>\n",
              "      <td>4238.000000</td>\n",
              "      <td>4238.000000</td>\n",
              "      <td>4188.000000</td>\n",
              "      <td>4238.000000</td>\n",
              "      <td>4238.000000</td>\n",
              "      <td>4219.000000</td>\n",
              "      <td>4237.000000</td>\n",
              "      <td>3850.000000</td>\n",
              "      <td>4238.000000</td>\n",
              "    </tr>\n",
              "    <tr>\n",
              "      <th>mean</th>\n",
              "      <td>0.429212</td>\n",
              "      <td>49.584946</td>\n",
              "      <td>1.978950</td>\n",
              "      <td>0.494101</td>\n",
              "      <td>9.003089</td>\n",
              "      <td>0.029630</td>\n",
              "      <td>0.005899</td>\n",
              "      <td>0.310524</td>\n",
              "      <td>0.025720</td>\n",
              "      <td>236.721585</td>\n",
              "      <td>132.352407</td>\n",
              "      <td>82.893464</td>\n",
              "      <td>25.802008</td>\n",
              "      <td>75.878924</td>\n",
              "      <td>81.966753</td>\n",
              "      <td>0.151958</td>\n",
              "    </tr>\n",
              "    <tr>\n",
              "      <th>std</th>\n",
              "      <td>0.495022</td>\n",
              "      <td>8.572160</td>\n",
              "      <td>1.019791</td>\n",
              "      <td>0.500024</td>\n",
              "      <td>11.920094</td>\n",
              "      <td>0.169584</td>\n",
              "      <td>0.076587</td>\n",
              "      <td>0.462763</td>\n",
              "      <td>0.158316</td>\n",
              "      <td>44.590334</td>\n",
              "      <td>22.038097</td>\n",
              "      <td>11.910850</td>\n",
              "      <td>4.080111</td>\n",
              "      <td>12.026596</td>\n",
              "      <td>23.959998</td>\n",
              "      <td>0.359023</td>\n",
              "    </tr>\n",
              "    <tr>\n",
              "      <th>min</th>\n",
              "      <td>0.000000</td>\n",
              "      <td>32.000000</td>\n",
              "      <td>1.000000</td>\n",
              "      <td>0.000000</td>\n",
              "      <td>0.000000</td>\n",
              "      <td>0.000000</td>\n",
              "      <td>0.000000</td>\n",
              "      <td>0.000000</td>\n",
              "      <td>0.000000</td>\n",
              "      <td>107.000000</td>\n",
              "      <td>83.500000</td>\n",
              "      <td>48.000000</td>\n",
              "      <td>15.540000</td>\n",
              "      <td>44.000000</td>\n",
              "      <td>40.000000</td>\n",
              "      <td>0.000000</td>\n",
              "    </tr>\n",
              "    <tr>\n",
              "      <th>25%</th>\n",
              "      <td>0.000000</td>\n",
              "      <td>42.000000</td>\n",
              "      <td>1.000000</td>\n",
              "      <td>0.000000</td>\n",
              "      <td>0.000000</td>\n",
              "      <td>0.000000</td>\n",
              "      <td>0.000000</td>\n",
              "      <td>0.000000</td>\n",
              "      <td>0.000000</td>\n",
              "      <td>206.000000</td>\n",
              "      <td>117.000000</td>\n",
              "      <td>75.000000</td>\n",
              "      <td>23.070000</td>\n",
              "      <td>68.000000</td>\n",
              "      <td>71.000000</td>\n",
              "      <td>0.000000</td>\n",
              "    </tr>\n",
              "    <tr>\n",
              "      <th>50%</th>\n",
              "      <td>0.000000</td>\n",
              "      <td>49.000000</td>\n",
              "      <td>2.000000</td>\n",
              "      <td>0.000000</td>\n",
              "      <td>0.000000</td>\n",
              "      <td>0.000000</td>\n",
              "      <td>0.000000</td>\n",
              "      <td>0.000000</td>\n",
              "      <td>0.000000</td>\n",
              "      <td>234.000000</td>\n",
              "      <td>128.000000</td>\n",
              "      <td>82.000000</td>\n",
              "      <td>25.400000</td>\n",
              "      <td>75.000000</td>\n",
              "      <td>78.000000</td>\n",
              "      <td>0.000000</td>\n",
              "    </tr>\n",
              "    <tr>\n",
              "      <th>75%</th>\n",
              "      <td>1.000000</td>\n",
              "      <td>56.000000</td>\n",
              "      <td>3.000000</td>\n",
              "      <td>1.000000</td>\n",
              "      <td>20.000000</td>\n",
              "      <td>0.000000</td>\n",
              "      <td>0.000000</td>\n",
              "      <td>1.000000</td>\n",
              "      <td>0.000000</td>\n",
              "      <td>263.000000</td>\n",
              "      <td>144.000000</td>\n",
              "      <td>89.875000</td>\n",
              "      <td>28.040000</td>\n",
              "      <td>83.000000</td>\n",
              "      <td>87.000000</td>\n",
              "      <td>0.000000</td>\n",
              "    </tr>\n",
              "    <tr>\n",
              "      <th>max</th>\n",
              "      <td>1.000000</td>\n",
              "      <td>70.000000</td>\n",
              "      <td>4.000000</td>\n",
              "      <td>1.000000</td>\n",
              "      <td>70.000000</td>\n",
              "      <td>1.000000</td>\n",
              "      <td>1.000000</td>\n",
              "      <td>1.000000</td>\n",
              "      <td>1.000000</td>\n",
              "      <td>696.000000</td>\n",
              "      <td>295.000000</td>\n",
              "      <td>142.500000</td>\n",
              "      <td>56.800000</td>\n",
              "      <td>143.000000</td>\n",
              "      <td>394.000000</td>\n",
              "      <td>1.000000</td>\n",
              "    </tr>\n",
              "  </tbody>\n",
              "</table>\n",
              "</div>"
            ],
            "text/plain": [
              "              male          age  ...      glucose   TenYearCHD\n",
              "count  4238.000000  4238.000000  ...  3850.000000  4238.000000\n",
              "mean      0.429212    49.584946  ...    81.966753     0.151958\n",
              "std       0.495022     8.572160  ...    23.959998     0.359023\n",
              "min       0.000000    32.000000  ...    40.000000     0.000000\n",
              "25%       0.000000    42.000000  ...    71.000000     0.000000\n",
              "50%       0.000000    49.000000  ...    78.000000     0.000000\n",
              "75%       1.000000    56.000000  ...    87.000000     0.000000\n",
              "max       1.000000    70.000000  ...   394.000000     1.000000\n",
              "\n",
              "[8 rows x 16 columns]"
            ]
          },
          "metadata": {
            "tags": []
          },
          "execution_count": 3
        }
      ]
    },
    {
      "cell_type": "code",
      "metadata": {
        "id": "Xamlrr_JwRnv"
      },
      "source": [
        "#filling the Nan values with the median values\n",
        "df['cigsPerDay'] = df['cigsPerDay'].fillna(df['cigsPerDay'].median())\n",
        "df['BPMeds'] = df['BPMeds'].fillna(df['BPMeds'].median())\n",
        "df['totChol'] = df['totChol'].fillna(df['totChol'].median())\n",
        "df['BMI'] = df['BMI'].fillna(df['BMI'].median())\n",
        "df['heartRate'] = df['heartRate'].fillna(df['heartRate'].median())\n",
        "df['glucose'] = df['glucose'].fillna(df['glucose'].median())\n",
        "df['education'] = df['education'].fillna(df['education'].median())"
      ],
      "execution_count": 4,
      "outputs": []
    },
    {
      "cell_type": "code",
      "metadata": {
        "colab": {
          "base_uri": "https://localhost:8080/",
          "height": 590
        },
        "id": "48aScrVBMZB8",
        "outputId": "dabe831d-e9fd-498b-ee89-f579334b88ef"
      },
      "source": [
        "#visualizing the data\n",
        "df.hist()"
      ],
      "execution_count": 5,
      "outputs": [
        {
          "output_type": "execute_result",
          "data": {
            "text/plain": [
              "array([[<matplotlib.axes._subplots.AxesSubplot object at 0x7f97ca743d50>,\n",
              "        <matplotlib.axes._subplots.AxesSubplot object at 0x7f97ca722590>,\n",
              "        <matplotlib.axes._subplots.AxesSubplot object at 0x7f97ca6d9c10>,\n",
              "        <matplotlib.axes._subplots.AxesSubplot object at 0x7f97ca69c2d0>],\n",
              "       [<matplotlib.axes._subplots.AxesSubplot object at 0x7f97ca64f950>,\n",
              "        <matplotlib.axes._subplots.AxesSubplot object at 0x7f97ca5fbad0>,\n",
              "        <matplotlib.axes._subplots.AxesSubplot object at 0x7f97ca5c8710>,\n",
              "        <matplotlib.axes._subplots.AxesSubplot object at 0x7f97ca57ecd0>],\n",
              "       [<matplotlib.axes._subplots.AxesSubplot object at 0x7f97ca57ed10>,\n",
              "        <matplotlib.axes._subplots.AxesSubplot object at 0x7f97ca5404d0>,\n",
              "        <matplotlib.axes._subplots.AxesSubplot object at 0x7f97ca4b8110>,\n",
              "        <matplotlib.axes._subplots.AxesSubplot object at 0x7f97ca46c790>],\n",
              "       [<matplotlib.axes._subplots.AxesSubplot object at 0x7f97ca4a1e10>,\n",
              "        <matplotlib.axes._subplots.AxesSubplot object at 0x7f97ca4624d0>,\n",
              "        <matplotlib.axes._subplots.AxesSubplot object at 0x7f97ca419b50>,\n",
              "        <matplotlib.axes._subplots.AxesSubplot object at 0x7f97ca3dd210>]],\n",
              "      dtype=object)"
            ]
          },
          "metadata": {
            "tags": []
          },
          "execution_count": 5
        },
        {
          "output_type": "display_data",
          "data": {
            "image/png": "[encoded data removed]",
            "text/plain": [
              "<Figure size 432x288 with 16 Axes>"
            ]
          },
          "metadata": {
            "tags": [],
            "needs_background": "light"
          }
        }
      ]
    },
    {
      "cell_type": "markdown",
      "metadata": {
        "id": "wm-9yVJwEgaW"
      },
      "source": [
        ""
      ]
    },
    {
      "cell_type": "code",
      "metadata": {
        "id": "rHCaUdpjwgZs"
      },
      "source": [
        "#splitting the data between training and testing sets\n",
        "df = shuffle(df)\n",
        "train_dataset = df.sample(frac=0.8, random_state=0)\n",
        "test_dataset = df.drop(train_dataset.index)"
      ],
      "execution_count": 6,
      "outputs": []
    },
    {
      "cell_type": "code",
      "metadata": {
        "colab": {
          "base_uri": "https://localhost:8080/",
          "height": 551
        },
        "id": "0VdgNyG7xJxE",
        "outputId": "60075505-2405-47e7-e8a4-f307a9918871"
      },
      "source": [
        "train_dataset.describe().transpose()"
      ],
      "execution_count": 7,
      "outputs": [
        {
          "output_type": "execute_result",
          "data": {
            "text/html": [
              "<div>\n",
              "<style scoped>\n",
              "    .dataframe tbody tr th:only-of-type {\n",
              "        vertical-align: middle;\n",
              "    }\n",
              "\n",
              "    .dataframe tbody tr th {\n",
              "        vertical-align: top;\n",
              "    }\n",
              "\n",
              "    .dataframe thead th {\n",
              "        text-align: right;\n",
              "    }\n",
              "</style>\n",
              "<table border=\"1\" class=\"dataframe\">\n",
              "  <thead>\n",
              "    <tr style=\"text-align: right;\">\n",
              "      <th></th>\n",
              "      <th>count</th>\n",
              "      <th>mean</th>\n",
              "      <th>std</th>\n",
              "      <th>min</th>\n",
              "      <th>25%</th>\n",
              "      <th>50%</th>\n",
              "      <th>75%</th>\n",
              "      <th>max</th>\n",
              "    </tr>\n",
              "  </thead>\n",
              "  <tbody>\n",
              "    <tr>\n",
              "      <th>male</th>\n",
              "      <td>3390.0</td>\n",
              "      <td>0.428614</td>\n",
              "      <td>0.494951</td>\n",
              "      <td>0.00</td>\n",
              "      <td>0.00</td>\n",
              "      <td>0.0</td>\n",
              "      <td>1.0000</td>\n",
              "      <td>1.00</td>\n",
              "    </tr>\n",
              "    <tr>\n",
              "      <th>age</th>\n",
              "      <td>3390.0</td>\n",
              "      <td>49.572566</td>\n",
              "      <td>8.594014</td>\n",
              "      <td>32.00</td>\n",
              "      <td>42.00</td>\n",
              "      <td>49.0</td>\n",
              "      <td>57.0000</td>\n",
              "      <td>70.00</td>\n",
              "    </tr>\n",
              "    <tr>\n",
              "      <th>education</th>\n",
              "      <td>3390.0</td>\n",
              "      <td>1.976991</td>\n",
              "      <td>1.007526</td>\n",
              "      <td>1.00</td>\n",
              "      <td>1.00</td>\n",
              "      <td>2.0</td>\n",
              "      <td>3.0000</td>\n",
              "      <td>4.00</td>\n",
              "    </tr>\n",
              "    <tr>\n",
              "      <th>currentSmoker</th>\n",
              "      <td>3390.0</td>\n",
              "      <td>0.491445</td>\n",
              "      <td>0.500001</td>\n",
              "      <td>0.00</td>\n",
              "      <td>0.00</td>\n",
              "      <td>0.0</td>\n",
              "      <td>1.0000</td>\n",
              "      <td>1.00</td>\n",
              "    </tr>\n",
              "    <tr>\n",
              "      <th>cigsPerDay</th>\n",
              "      <td>3390.0</td>\n",
              "      <td>8.928909</td>\n",
              "      <td>11.963748</td>\n",
              "      <td>0.00</td>\n",
              "      <td>0.00</td>\n",
              "      <td>0.0</td>\n",
              "      <td>20.0000</td>\n",
              "      <td>60.00</td>\n",
              "    </tr>\n",
              "    <tr>\n",
              "      <th>BPMeds</th>\n",
              "      <td>3390.0</td>\n",
              "      <td>0.028319</td>\n",
              "      <td>0.165906</td>\n",
              "      <td>0.00</td>\n",
              "      <td>0.00</td>\n",
              "      <td>0.0</td>\n",
              "      <td>0.0000</td>\n",
              "      <td>1.00</td>\n",
              "    </tr>\n",
              "    <tr>\n",
              "      <th>prevalentStroke</th>\n",
              "      <td>3390.0</td>\n",
              "      <td>0.006195</td>\n",
              "      <td>0.078474</td>\n",
              "      <td>0.00</td>\n",
              "      <td>0.00</td>\n",
              "      <td>0.0</td>\n",
              "      <td>0.0000</td>\n",
              "      <td>1.00</td>\n",
              "    </tr>\n",
              "    <tr>\n",
              "      <th>prevalentHyp</th>\n",
              "      <td>3390.0</td>\n",
              "      <td>0.312094</td>\n",
              "      <td>0.463416</td>\n",
              "      <td>0.00</td>\n",
              "      <td>0.00</td>\n",
              "      <td>0.0</td>\n",
              "      <td>1.0000</td>\n",
              "      <td>1.00</td>\n",
              "    </tr>\n",
              "    <tr>\n",
              "      <th>diabetes</th>\n",
              "      <td>3390.0</td>\n",
              "      <td>0.026844</td>\n",
              "      <td>0.161650</td>\n",
              "      <td>0.00</td>\n",
              "      <td>0.00</td>\n",
              "      <td>0.0</td>\n",
              "      <td>0.0000</td>\n",
              "      <td>1.00</td>\n",
              "    </tr>\n",
              "    <tr>\n",
              "      <th>totChol</th>\n",
              "      <td>3390.0</td>\n",
              "      <td>236.771386</td>\n",
              "      <td>43.863531</td>\n",
              "      <td>107.00</td>\n",
              "      <td>206.00</td>\n",
              "      <td>234.0</td>\n",
              "      <td>262.0000</td>\n",
              "      <td>696.00</td>\n",
              "    </tr>\n",
              "    <tr>\n",
              "      <th>sysBP</th>\n",
              "      <td>3390.0</td>\n",
              "      <td>132.269174</td>\n",
              "      <td>21.851771</td>\n",
              "      <td>83.50</td>\n",
              "      <td>117.00</td>\n",
              "      <td>128.0</td>\n",
              "      <td>143.5000</td>\n",
              "      <td>248.00</td>\n",
              "    </tr>\n",
              "    <tr>\n",
              "      <th>diaBP</th>\n",
              "      <td>3390.0</td>\n",
              "      <td>82.809735</td>\n",
              "      <td>11.767208</td>\n",
              "      <td>48.00</td>\n",
              "      <td>75.00</td>\n",
              "      <td>82.0</td>\n",
              "      <td>89.5000</td>\n",
              "      <td>142.50</td>\n",
              "    </tr>\n",
              "    <tr>\n",
              "      <th>BMI</th>\n",
              "      <td>3390.0</td>\n",
              "      <td>25.797764</td>\n",
              "      <td>4.038757</td>\n",
              "      <td>15.54</td>\n",
              "      <td>23.07</td>\n",
              "      <td>25.4</td>\n",
              "      <td>28.0275</td>\n",
              "      <td>51.28</td>\n",
              "    </tr>\n",
              "    <tr>\n",
              "      <th>heartRate</th>\n",
              "      <td>3390.0</td>\n",
              "      <td>75.844248</td>\n",
              "      <td>12.067771</td>\n",
              "      <td>44.00</td>\n",
              "      <td>68.00</td>\n",
              "      <td>75.0</td>\n",
              "      <td>83.0000</td>\n",
              "      <td>143.00</td>\n",
              "    </tr>\n",
              "    <tr>\n",
              "      <th>glucose</th>\n",
              "      <td>3390.0</td>\n",
              "      <td>81.856932</td>\n",
              "      <td>24.328246</td>\n",
              "      <td>40.00</td>\n",
              "      <td>72.00</td>\n",
              "      <td>78.0</td>\n",
              "      <td>85.0000</td>\n",
              "      <td>394.00</td>\n",
              "    </tr>\n",
              "    <tr>\n",
              "      <th>TenYearCHD</th>\n",
              "      <td>3390.0</td>\n",
              "      <td>0.152212</td>\n",
              "      <td>0.359280</td>\n",
              "      <td>0.00</td>\n",
              "      <td>0.00</td>\n",
              "      <td>0.0</td>\n",
              "      <td>0.0000</td>\n",
              "      <td>1.00</td>\n",
              "    </tr>\n",
              "  </tbody>\n",
              "</table>\n",
              "</div>"
            ],
            "text/plain": [
              "                  count        mean        std  ...    50%       75%     max\n",
              "male             3390.0    0.428614   0.494951  ...    0.0    1.0000    1.00\n",
              "age              3390.0   49.572566   8.594014  ...   49.0   57.0000   70.00\n",
              "education        3390.0    1.976991   1.007526  ...    2.0    3.0000    4.00\n",
              "currentSmoker    3390.0    0.491445   0.500001  ...    0.0    1.0000    1.00\n",
              "cigsPerDay       3390.0    8.928909  11.963748  ...    0.0   20.0000   60.00\n",
              "BPMeds           3390.0    0.028319   0.165906  ...    0.0    0.0000    1.00\n",
              "prevalentStroke  3390.0    0.006195   0.078474  ...    0.0    0.0000    1.00\n",
              "prevalentHyp     3390.0    0.312094   0.463416  ...    0.0    1.0000    1.00\n",
              "diabetes         3390.0    0.026844   0.161650  ...    0.0    0.0000    1.00\n",
              "totChol          3390.0  236.771386  43.863531  ...  234.0  262.0000  696.00\n",
              "sysBP            3390.0  132.269174  21.851771  ...  128.0  143.5000  248.00\n",
              "diaBP            3390.0   82.809735  11.767208  ...   82.0   89.5000  142.50\n",
              "BMI              3390.0   25.797764   4.038757  ...   25.4   28.0275   51.28\n",
              "heartRate        3390.0   75.844248  12.067771  ...   75.0   83.0000  143.00\n",
              "glucose          3390.0   81.856932  24.328246  ...   78.0   85.0000  394.00\n",
              "TenYearCHD       3390.0    0.152212   0.359280  ...    0.0    0.0000    1.00\n",
              "\n",
              "[16 rows x 8 columns]"
            ]
          },
          "metadata": {
            "tags": []
          },
          "execution_count": 7
        }
      ]
    },
    {
      "cell_type": "code",
      "metadata": {
        "id": "ZC2jQNwN6MTq"
      },
      "source": [
        "#Splitting the features and labels of each set\n",
        "train_features = train_dataset.copy()\n",
        "test_features = test_dataset.copy()\n",
        "\n",
        "train_labels = train_features.pop('TenYearCHD')\n",
        "test_labels = test_features.pop('TenYearCHD')"
      ],
      "execution_count": 8,
      "outputs": []
    },
    {
      "cell_type": "code",
      "metadata": {
        "colab": {
          "base_uri": "https://localhost:8080/"
        },
        "id": "9-QG8Kmg6S7q",
        "outputId": "775faac4-5bcf-4a12-a807-99f85e053f78"
      },
      "source": [
        "print(train_labels)"
      ],
      "execution_count": 9,
      "outputs": [
        {
          "output_type": "stream",
          "text": [
            "4089    0\n",
            "1676    0\n",
            "1123    0\n",
            "3849    0\n",
            "258     0\n",
            "       ..\n",
            "4063    0\n",
            "1344    0\n",
            "1253    1\n",
            "2031    1\n",
            "3564    1\n",
            "Name: TenYearCHD, Length: 3390, dtype: int64\n"
          ],
          "name": "stdout"
        }
      ]
    },
    {
      "cell_type": "code",
      "metadata": {
        "colab": {
          "base_uri": "https://localhost:8080/"
        },
        "id": "CjkZm-506YIS",
        "outputId": "85455095-56c8-45cd-b288-1e05adfffd3b"
      },
      "source": [
        "#Normalizing the data\n",
        "normalizer = preprocessing.Normalization(axis=-1)\n",
        "normalizer.adapt(np.array(train_features))\n",
        "print(normalizer.mean.numpy())"
      ],
      "execution_count": 10,
      "outputs": [
        {
          "output_type": "stream",
          "text": [
            "[4.2861354e-01 4.9572556e+01 1.9769909e+00 4.9144554e-01 8.9289093e+00\n",
            " 2.8318582e-02 6.1946898e-03 3.1209439e-01 2.6843660e-02 2.3677141e+02\n",
            " 1.3226917e+02 8.2809746e+01 2.5797760e+01 7.5844238e+01 8.1856911e+01]\n"
          ],
          "name": "stdout"
        }
      ]
    },
    {
      "cell_type": "code",
      "metadata": {
        "colab": {
          "base_uri": "https://localhost:8080/"
        },
        "id": "DUOiB7g4Ty88",
        "outputId": "c2f1f3db-27eb-4497-ea60-34c319b3733a"
      },
      "source": [
        "print(normalizer(train_features).numpy())"
      ],
      "execution_count": 11,
      "outputs": [
        {
          "output_type": "stream",
          "text": [
            "[[-0.86609983  1.6790258  -0.9698354  ... -1.3144006  -0.6501114\n",
            "   0.5814303 ]\n",
            " [-0.86609983  0.86438525 -0.9698354  ...  0.05008221 -0.6501114\n",
            "  -0.9807709 ]\n",
            " [ 1.1546012   1.6790258   2.0081923  ... -0.37585416 -0.89874405\n",
            "   0.17032471]\n",
            " ...\n",
            " [ 1.1546012   0.04974479  0.02284054 ...  0.23085748  0.34441942\n",
            "  -0.24078086]\n",
            " [-0.86609983  1.6790258  -0.9698354  ... -0.8067434  -1.3131319\n",
            "  -0.19967031]\n",
            " [ 1.1546012  -1.1140273   2.0081923  ...  1.2387421  -0.06996842\n",
            "   0.12921415]]\n"
          ],
          "name": "stdout"
        }
      ]
    },
    {
      "cell_type": "code",
      "metadata": {
        "id": "YJcuuDrBCZCS"
      },
      "source": [
        "#A function for building then compiling the model\n",
        "def build_and_compile_model(norm):\n",
        "  model = keras.Sequential([\n",
        "      norm,\n",
        "      layers.Dense(64, activation='tanh'),\n",
        "      layers.Dense(64, activation='tanh'),\n",
        "      layers.Dense(1, activation='sigmoid')\n",
        "  ])\n",
        "\n",
        "\n",
        "\n",
        "  model.compile(loss='binary_crossentropy',\n",
        "                optimizer=tf.optimizers.Adam(learning_rate=0.00001), metrics=['accuracy'])\n",
        "  return model"
      ],
      "execution_count": 12,
      "outputs": []
    },
    {
      "cell_type": "code",
      "metadata": {
        "colab": {
          "base_uri": "https://localhost:8080/"
        },
        "id": "YTYHn1k5E6eX",
        "outputId": "69244927-8864-4117-da9d-a50f158367c0"
      },
      "source": [
        "#using the function to acually build and compile the model\n",
        "model = build_and_compile_model(normalizer)\n",
        "model.summary()"
      ],
      "execution_count": 13,
      "outputs": [
        {
          "output_type": "stream",
          "text": [
            "Model: \"sequential\"\n",
            "_________________________________________________________________\n",
            "Layer (type)                 Output Shape              Param #   \n",
            "=================================================================\n",
            "normalization (Normalization (None, 15)                31        \n",
            "_________________________________________________________________\n",
            "dense (Dense)                (None, 64)                1024      \n",
            "_________________________________________________________________\n",
            "dense_1 (Dense)              (None, 64)                4160      \n",
            "_________________________________________________________________\n",
            "dense_2 (Dense)              (None, 1)                 65        \n",
            "=================================================================\n",
            "Total params: 5,280\n",
            "Trainable params: 5,249\n",
            "Non-trainable params: 31\n",
            "_________________________________________________________________\n"
          ],
          "name": "stdout"
        }
      ]
    },
    {
      "cell_type": "code",
      "metadata": {
        "colab": {
          "base_uri": "https://localhost:8080/"
        },
        "id": "wgxRaqPUE7TM",
        "outputId": "6344ef82-1095-49e1-ed5f-c11526692712"
      },
      "source": [
        "#training the model\n",
        "history = model.fit(\n",
        "    train_features, train_labels,shuffle=True,\n",
        "    verbose=1, epochs=100)"
      ],
      "execution_count": 14,
      "outputs": [
        {
          "output_type": "stream",
          "text": [
            "Epoch 1/100\n",
            "106/106 [==============================] - 1s 1ms/step - loss: 0.7298 - accuracy: 0.4714\n",
            "Epoch 2/100\n",
            "106/106 [==============================] - 0s 2ms/step - loss: 0.7140 - accuracy: 0.4991\n",
            "Epoch 3/100\n",
            "106/106 [==============================] - 0s 2ms/step - loss: 0.6997 - accuracy: 0.5227\n",
            "Epoch 4/100\n",
            "106/106 [==============================] - 0s 1ms/step - loss: 0.6869 - accuracy: 0.5466\n",
            "Epoch 5/100\n",
            "106/106 [==============================] - 0s 2ms/step - loss: 0.6755 - accuracy: 0.5755\n",
            "Epoch 6/100\n",
            "106/106 [==============================] - 0s 1ms/step - loss: 0.6650 - accuracy: 0.5947\n",
            "Epoch 7/100\n",
            "106/106 [==============================] - 0s 1ms/step - loss: 0.6555 - accuracy: 0.6118\n",
            "Epoch 8/100\n",
            "106/106 [==============================] - 0s 1ms/step - loss: 0.6468 - accuracy: 0.6301\n",
            "Epoch 9/100\n",
            "106/106 [==============================] - 0s 2ms/step - loss: 0.6387 - accuracy: 0.6504\n",
            "Epoch 10/100\n",
            "106/106 [==============================] - 0s 1ms/step - loss: 0.6312 - accuracy: 0.6684\n",
            "Epoch 11/100\n",
            "106/106 [==============================] - 0s 1ms/step - loss: 0.6241 - accuracy: 0.6796\n",
            "Epoch 12/100\n",
            "106/106 [==============================] - 0s 2ms/step - loss: 0.6173 - accuracy: 0.6888\n",
            "Epoch 13/100\n",
            "106/106 [==============================] - 0s 2ms/step - loss: 0.6109 - accuracy: 0.6935\n",
            "Epoch 14/100\n",
            "106/106 [==============================] - 0s 1ms/step - loss: 0.6048 - accuracy: 0.7044\n",
            "Epoch 15/100\n",
            "106/106 [==============================] - 0s 1ms/step - loss: 0.5989 - accuracy: 0.7115\n",
            "Epoch 16/100\n",
            "106/106 [==============================] - 0s 1ms/step - loss: 0.5931 - accuracy: 0.7177\n",
            "Epoch 17/100\n",
            "106/106 [==============================] - 0s 2ms/step - loss: 0.5876 - accuracy: 0.7227\n",
            "Epoch 18/100\n",
            "106/106 [==============================] - 0s 2ms/step - loss: 0.5822 - accuracy: 0.7292\n",
            "Epoch 19/100\n",
            "106/106 [==============================] - 0s 2ms/step - loss: 0.5768 - accuracy: 0.7354\n",
            "Epoch 20/100\n",
            "106/106 [==============================] - 0s 1ms/step - loss: 0.5717 - accuracy: 0.7419\n",
            "Epoch 21/100\n",
            "106/106 [==============================] - 0s 1ms/step - loss: 0.5665 - accuracy: 0.7478\n",
            "Epoch 22/100\n",
            "106/106 [==============================] - 0s 1ms/step - loss: 0.5615 - accuracy: 0.7513\n",
            "Epoch 23/100\n",
            "106/106 [==============================] - 0s 1ms/step - loss: 0.5566 - accuracy: 0.7546\n",
            "Epoch 24/100\n",
            "106/106 [==============================] - 0s 1ms/step - loss: 0.5517 - accuracy: 0.7596\n",
            "Epoch 25/100\n",
            "106/106 [==============================] - 0s 1ms/step - loss: 0.5469 - accuracy: 0.7614\n",
            "Epoch 26/100\n",
            "106/106 [==============================] - 0s 1ms/step - loss: 0.5422 - accuracy: 0.7681\n",
            "Epoch 27/100\n",
            "106/106 [==============================] - 0s 1ms/step - loss: 0.5375 - accuracy: 0.7696\n",
            "Epoch 28/100\n",
            "106/106 [==============================] - 0s 2ms/step - loss: 0.5328 - accuracy: 0.7746\n",
            "Epoch 29/100\n",
            "106/106 [==============================] - 0s 1ms/step - loss: 0.5282 - accuracy: 0.7808\n",
            "Epoch 30/100\n",
            "106/106 [==============================] - 0s 1ms/step - loss: 0.5237 - accuracy: 0.7855\n",
            "Epoch 31/100\n",
            "106/106 [==============================] - 0s 2ms/step - loss: 0.5192 - accuracy: 0.7888\n",
            "Epoch 32/100\n",
            "106/106 [==============================] - 0s 1ms/step - loss: 0.5148 - accuracy: 0.7929\n",
            "Epoch 33/100\n",
            "106/106 [==============================] - 0s 2ms/step - loss: 0.5104 - accuracy: 0.7985\n",
            "Epoch 34/100\n",
            "106/106 [==============================] - 0s 2ms/step - loss: 0.5061 - accuracy: 0.8006\n",
            "Epoch 35/100\n",
            "106/106 [==============================] - 0s 1ms/step - loss: 0.5018 - accuracy: 0.8032\n",
            "Epoch 36/100\n",
            "106/106 [==============================] - 0s 2ms/step - loss: 0.4976 - accuracy: 0.8071\n",
            "Epoch 37/100\n",
            "106/106 [==============================] - 0s 2ms/step - loss: 0.4934 - accuracy: 0.8097\n",
            "Epoch 38/100\n",
            "106/106 [==============================] - 0s 2ms/step - loss: 0.4894 - accuracy: 0.8130\n",
            "Epoch 39/100\n",
            "106/106 [==============================] - 0s 1ms/step - loss: 0.4854 - accuracy: 0.8153\n",
            "Epoch 40/100\n",
            "106/106 [==============================] - 0s 2ms/step - loss: 0.4814 - accuracy: 0.8180\n",
            "Epoch 41/100\n",
            "106/106 [==============================] - 0s 2ms/step - loss: 0.4776 - accuracy: 0.8206\n",
            "Epoch 42/100\n",
            "106/106 [==============================] - 0s 2ms/step - loss: 0.4737 - accuracy: 0.8218\n",
            "Epoch 43/100\n",
            "106/106 [==============================] - 0s 1ms/step - loss: 0.4700 - accuracy: 0.8248\n",
            "Epoch 44/100\n",
            "106/106 [==============================] - 0s 1ms/step - loss: 0.4664 - accuracy: 0.8268\n",
            "Epoch 45/100\n",
            "106/106 [==============================] - 0s 1ms/step - loss: 0.4628 - accuracy: 0.8295\n",
            "Epoch 46/100\n",
            "106/106 [==============================] - 0s 2ms/step - loss: 0.4592 - accuracy: 0.8304\n",
            "Epoch 47/100\n",
            "106/106 [==============================] - 0s 2ms/step - loss: 0.4558 - accuracy: 0.8310\n",
            "Epoch 48/100\n",
            "106/106 [==============================] - 0s 1ms/step - loss: 0.4525 - accuracy: 0.8333\n",
            "Epoch 49/100\n",
            "106/106 [==============================] - 0s 1ms/step - loss: 0.4492 - accuracy: 0.8339\n",
            "Epoch 50/100\n",
            "106/106 [==============================] - 0s 2ms/step - loss: 0.4461 - accuracy: 0.8342\n",
            "Epoch 51/100\n",
            "106/106 [==============================] - 0s 1ms/step - loss: 0.4430 - accuracy: 0.8351\n",
            "Epoch 52/100\n",
            "106/106 [==============================] - 0s 2ms/step - loss: 0.4400 - accuracy: 0.8342\n",
            "Epoch 53/100\n",
            "106/106 [==============================] - 0s 1ms/step - loss: 0.4370 - accuracy: 0.8354\n",
            "Epoch 54/100\n",
            "106/106 [==============================] - 0s 2ms/step - loss: 0.4342 - accuracy: 0.8357\n",
            "Epoch 55/100\n",
            "106/106 [==============================] - 0s 2ms/step - loss: 0.4315 - accuracy: 0.8375\n",
            "Epoch 56/100\n",
            "106/106 [==============================] - 0s 2ms/step - loss: 0.4288 - accuracy: 0.8378\n",
            "Epoch 57/100\n",
            "106/106 [==============================] - 0s 2ms/step - loss: 0.4263 - accuracy: 0.8383\n",
            "Epoch 58/100\n",
            "106/106 [==============================] - 0s 2ms/step - loss: 0.4238 - accuracy: 0.8392\n",
            "Epoch 59/100\n",
            "106/106 [==============================] - 0s 1ms/step - loss: 0.4214 - accuracy: 0.8407\n",
            "Epoch 60/100\n",
            "106/106 [==============================] - 0s 1ms/step - loss: 0.4191 - accuracy: 0.8416\n",
            "Epoch 61/100\n",
            "106/106 [==============================] - 0s 1ms/step - loss: 0.4169 - accuracy: 0.8425\n",
            "Epoch 62/100\n",
            "106/106 [==============================] - 0s 1ms/step - loss: 0.4148 - accuracy: 0.8437\n",
            "Epoch 63/100\n",
            "106/106 [==============================] - 0s 2ms/step - loss: 0.4128 - accuracy: 0.8440\n",
            "Epoch 64/100\n",
            "106/106 [==============================] - 0s 2ms/step - loss: 0.4108 - accuracy: 0.8442\n",
            "Epoch 65/100\n",
            "106/106 [==============================] - 0s 2ms/step - loss: 0.4090 - accuracy: 0.8440\n",
            "Epoch 66/100\n",
            "106/106 [==============================] - 0s 1ms/step - loss: 0.4072 - accuracy: 0.8440\n",
            "Epoch 67/100\n",
            "106/106 [==============================] - 0s 2ms/step - loss: 0.4055 - accuracy: 0.8457\n",
            "Epoch 68/100\n",
            "106/106 [==============================] - 0s 2ms/step - loss: 0.4039 - accuracy: 0.8457\n",
            "Epoch 69/100\n",
            "106/106 [==============================] - 0s 1ms/step - loss: 0.4023 - accuracy: 0.8463\n",
            "Epoch 70/100\n",
            "106/106 [==============================] - 0s 2ms/step - loss: 0.4009 - accuracy: 0.8469\n",
            "Epoch 71/100\n",
            "106/106 [==============================] - 0s 2ms/step - loss: 0.3995 - accuracy: 0.8469\n",
            "Epoch 72/100\n",
            "106/106 [==============================] - 0s 1ms/step - loss: 0.3982 - accuracy: 0.8463\n",
            "Epoch 73/100\n",
            "106/106 [==============================] - 0s 2ms/step - loss: 0.3970 - accuracy: 0.8463\n",
            "Epoch 74/100\n",
            "106/106 [==============================] - 0s 1ms/step - loss: 0.3957 - accuracy: 0.8475\n",
            "Epoch 75/100\n",
            "106/106 [==============================] - 0s 1ms/step - loss: 0.3946 - accuracy: 0.8481\n",
            "Epoch 76/100\n",
            "106/106 [==============================] - 0s 1ms/step - loss: 0.3936 - accuracy: 0.8490\n",
            "Epoch 77/100\n",
            "106/106 [==============================] - 0s 2ms/step - loss: 0.3926 - accuracy: 0.8499\n",
            "Epoch 78/100\n",
            "106/106 [==============================] - 0s 1ms/step - loss: 0.3917 - accuracy: 0.8501\n",
            "Epoch 79/100\n",
            "106/106 [==============================] - 0s 2ms/step - loss: 0.3908 - accuracy: 0.8507\n",
            "Epoch 80/100\n",
            "106/106 [==============================] - 0s 2ms/step - loss: 0.3900 - accuracy: 0.8513\n",
            "Epoch 81/100\n",
            "106/106 [==============================] - 0s 1ms/step - loss: 0.3892 - accuracy: 0.8525\n",
            "Epoch 82/100\n",
            "106/106 [==============================] - 0s 2ms/step - loss: 0.3885 - accuracy: 0.8522\n",
            "Epoch 83/100\n",
            "106/106 [==============================] - 0s 2ms/step - loss: 0.3878 - accuracy: 0.8522\n",
            "Epoch 84/100\n",
            "106/106 [==============================] - 0s 1ms/step - loss: 0.3872 - accuracy: 0.8522\n",
            "Epoch 85/100\n",
            "106/106 [==============================] - 0s 1ms/step - loss: 0.3865 - accuracy: 0.8519\n",
            "Epoch 86/100\n",
            "106/106 [==============================] - 0s 1ms/step - loss: 0.3860 - accuracy: 0.8531\n",
            "Epoch 87/100\n",
            "106/106 [==============================] - 0s 2ms/step - loss: 0.3855 - accuracy: 0.8537\n",
            "Epoch 88/100\n",
            "106/106 [==============================] - 0s 2ms/step - loss: 0.3850 - accuracy: 0.8537\n",
            "Epoch 89/100\n",
            "106/106 [==============================] - 0s 2ms/step - loss: 0.3845 - accuracy: 0.8537\n",
            "Epoch 90/100\n",
            "106/106 [==============================] - 0s 1ms/step - loss: 0.3841 - accuracy: 0.8537\n",
            "Epoch 91/100\n",
            "106/106 [==============================] - 0s 2ms/step - loss: 0.3837 - accuracy: 0.8528\n",
            "Epoch 92/100\n",
            "106/106 [==============================] - 0s 2ms/step - loss: 0.3833 - accuracy: 0.8534\n",
            "Epoch 93/100\n",
            "106/106 [==============================] - 0s 1ms/step - loss: 0.3830 - accuracy: 0.8528\n",
            "Epoch 94/100\n",
            "106/106 [==============================] - 0s 2ms/step - loss: 0.3827 - accuracy: 0.8528\n",
            "Epoch 95/100\n",
            "106/106 [==============================] - 0s 2ms/step - loss: 0.3824 - accuracy: 0.8531\n",
            "Epoch 96/100\n",
            "106/106 [==============================] - 0s 1ms/step - loss: 0.3821 - accuracy: 0.8528\n",
            "Epoch 97/100\n",
            "106/106 [==============================] - 0s 1ms/step - loss: 0.3819 - accuracy: 0.8528\n",
            "Epoch 98/100\n",
            "106/106 [==============================] - 0s 2ms/step - loss: 0.3816 - accuracy: 0.8531\n",
            "Epoch 99/100\n",
            "106/106 [==============================] - 0s 2ms/step - loss: 0.3814 - accuracy: 0.8528\n",
            "Epoch 100/100\n",
            "106/106 [==============================] - 0s 1ms/step - loss: 0.3812 - accuracy: 0.8531\n"
          ],
          "name": "stdout"
        }
      ]
    },
    {
      "cell_type": "code",
      "metadata": {
        "colab": {
          "base_uri": "https://localhost:8080/"
        },
        "id": "MTd7SYIQM-Ib",
        "outputId": "319dedfa-1d2d-4a71-a217-b58c6a2c114a"
      },
      "source": [
        "print(history.history['accuracy'])"
      ],
      "execution_count": 15,
      "outputs": [
        {
          "output_type": "stream",
          "text": [
            "[0.4713864326477051, 0.4991150498390198, 0.522713840007782, 0.5466076731681824, 0.5755162239074707, 0.5946902632713318, 0.611799418926239, 0.6300885081291199, 0.6504424810409546, 0.668436586856842, 0.6796460151672363, 0.6887905597686768, 0.6935103535652161, 0.7044247984886169, 0.7115043997764587, 0.7176991105079651, 0.7227138876914978, 0.7292035222053528, 0.7353982329368591, 0.7418879270553589, 0.747787594795227, 0.7513274550437927, 0.7545722723007202, 0.7595870494842529, 0.7613569498062134, 0.7681415677070618, 0.7696165442466736, 0.7746312618255615, 0.7808259725570679, 0.7855457067489624, 0.7887905836105347, 0.7929203510284424, 0.7985250949859619, 0.8005899786949158, 0.8032448291778564, 0.8070796728134155, 0.8097345232963562, 0.8129793405532837, 0.815339207649231, 0.8179941177368164, 0.8206489682197571, 0.8218289017677307, 0.8247787356376648, 0.8268436789512634, 0.8294985294342041, 0.8303834795951843, 0.8309734463691711, 0.8333333134651184, 0.8339232802391052, 0.8342182636260986, 0.8351032733917236, 0.8342182636260986, 0.835398256778717, 0.8356932401657104, 0.8374631404876709, 0.8377581238746643, 0.8383480906486511, 0.8392330408096313, 0.8407079577445984, 0.8415929079055786, 0.8424778580665588, 0.8436577916145325, 0.8439527750015259, 0.8442477583885193, 0.8439527750015259, 0.8439527750015259, 0.8457227349281311, 0.8457227349281311, 0.8463127017021179, 0.8469026684761047, 0.8469026684761047, 0.8463127017021179, 0.8463127017021179, 0.8474926352500916, 0.8480826020240784, 0.8489675521850586, 0.8498525023460388, 0.8501474857330322, 0.850737452507019, 0.8513274192810059, 0.8525073528289795, 0.8522123694419861, 0.8522123694419861, 0.8522123694419861, 0.8519173860549927, 0.8530973196029663, 0.8536872863769531, 0.8536872863769531, 0.8536872863769531, 0.8536872863769531, 0.8528023362159729, 0.8533923029899597, 0.8528023362159729, 0.8528023362159729, 0.8530973196029663, 0.8528023362159729, 0.8528023362159729, 0.8530973196029663, 0.8528023362159729, 0.8530973196029663]\n"
          ],
          "name": "stdout"
        }
      ]
    },
    {
      "cell_type": "code",
      "metadata": {
        "id": "O9EQezA1FZu4"
      },
      "source": [
        "def plot_loss(history):\n",
        "  plt.plot(history.history['loss'], label='loss')\n",
        "  plt.plot(history.history['accuracy'], label='accuracy')\n",
        "  plt.ylim([0, 1])\n",
        "  plt.xlabel('Epoch')\n",
        "  plt.ylabel('Error [TenYearCHD]')\n",
        "  plt.legend()\n",
        "  plt.grid(True)"
      ],
      "execution_count": 16,
      "outputs": []
    },
    {
      "cell_type": "code",
      "metadata": {
        "colab": {
          "base_uri": "https://localhost:8080/",
          "height": 283
        },
        "id": "zt4TC6TqFFp3",
        "outputId": "f991e80f-b486-47bd-dfeb-72bbcae67198"
      },
      "source": [
        "plot_loss(history)"
      ],
      "execution_count": 17,
      "outputs": [
        {
          "output_type": "display_data",
          "data": {
            "image/png": "[encoded data removed]",
            "text/plain": [
              "<Figure size 432x288 with 1 Axes>"
            ]
          },
          "metadata": {
            "tags": [],
            "needs_background": "light"
          }
        }
      ]
    },
    {
      "cell_type": "code",
      "metadata": {
        "colab": {
          "base_uri": "https://localhost:8080/"
        },
        "id": "gTI8TiWTjunr",
        "outputId": "d0d058ab-f7dc-4ed5-814d-8f9e8f8fdc7d"
      },
      "source": [
        "test_loss, test_acc = model.evaluate(test_features,  test_labels, verbose=1) \n",
        "\n",
        "print('Test accuracy:', test_acc)"
      ],
      "execution_count": 18,
      "outputs": [
        {
          "output_type": "stream",
          "text": [
            "27/27 [==============================] - 0s 1ms/step - loss: 0.3819 - accuracy: 0.8514\n",
            "Test accuracy: 0.8514150977134705\n"
          ],
          "name": "stdout"
        }
      ]
    },
    {
      "cell_type": "code",
      "metadata": {
        "id": "n3v0lYuGrg6X"
      },
      "source": [
        "test_predictions = model.predict(test_features).flatten()"
      ],
      "execution_count": 19,
      "outputs": []
    },
    {
      "cell_type": "code",
      "metadata": {
        "colab": {
          "base_uri": "https://localhost:8080/"
        },
        "id": "58ELaopnrHU-",
        "outputId": "dfc43ee3-1e73-4406-b5bc-c8376257cfbb"
      },
      "source": [
        "#saving the model\n",
        "model.save('model')"
      ],
      "execution_count": 20,
      "outputs": [
        {
          "output_type": "stream",
          "text": [
            "INFO:tensorflow:Assets written to: model/assets\n"
          ],
          "name": "stdout"
        }
      ]
    },
    {
      "cell_type": "code",
      "metadata": {
        "id": "uXUbX_ffrbFV"
      },
      "source": [
        "#reloading the saved model\n",
        "reloaded = tf.keras.models.load_model('model')"
      ],
      "execution_count": 21,
      "outputs": []
    }
  ]
}